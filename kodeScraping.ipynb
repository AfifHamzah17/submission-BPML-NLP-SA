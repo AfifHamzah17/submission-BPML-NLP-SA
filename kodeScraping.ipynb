{
  "nbformat": 4,
  "nbformat_minor": 0,
  "metadata": {
    "colab": {
      "provenance": []
    },
    "kernelspec": {
      "name": "python3",
      "display_name": "Python 3"
    },
    "language_info": {
      "name": "python"
    }
  },
  "cells": [
    {
      "cell_type": "markdown",
      "source": [
        "# Proyek Analisis Sentimen"
      ],
      "metadata": {
        "id": "pqH5mrUO3qV8"
      }
    },
    {
      "cell_type": "markdown",
      "source": [
        "# **Menginstal Depedensi Yang diperlukan**"
      ],
      "metadata": {
        "id": "oo_dLAq34ASM"
      }
    },
    {
      "cell_type": "code",
      "execution_count": 1,
      "metadata": {
        "colab": {
          "base_uri": "https://localhost:8080/"
        },
        "id": "2peDT_ii3dmG",
        "outputId": "9e404509-b69a-42ce-904d-4381a2b4980f"
      },
      "outputs": [
        {
          "output_type": "stream",
          "name": "stdout",
          "text": [
            "Collecting google-play-scraper\n",
            "  Downloading google_play_scraper-1.2.7-py3-none-any.whl.metadata (50 kB)\n",
            "\u001b[?25l     \u001b[90m━━━━━━━━━━━━━━━━━━━━━━━━━━━━━━━━━━━━━━━━\u001b[0m \u001b[32m0.0/50.2 kB\u001b[0m \u001b[31m?\u001b[0m eta \u001b[36m-:--:--\u001b[0m\r\u001b[2K     \u001b[90m━━━━━━━━━━━━━━━━━━━━━━━━━━━━━━━━━━━━━━━━\u001b[0m \u001b[32m50.2/50.2 kB\u001b[0m \u001b[31m2.3 MB/s\u001b[0m eta \u001b[36m0:00:00\u001b[0m\n",
            "\u001b[?25hDownloading google_play_scraper-1.2.7-py3-none-any.whl (28 kB)\n",
            "Installing collected packages: google-play-scraper\n",
            "Successfully installed google-play-scraper-1.2.7\n"
          ]
        }
      ],
      "source": [
        "pip install google-play-scraper"
      ]
    },
    {
      "cell_type": "markdown",
      "source": [
        "**Import Library**"
      ],
      "metadata": {
        "id": "hfjPA9qU4Ro8"
      }
    },
    {
      "cell_type": "code",
      "source": [
        "from google_play_scraper import Sort, reviews_all\n",
        "import pandas as pd"
      ],
      "metadata": {
        "id": "jpr47dcp3pSg"
      },
      "execution_count": 2,
      "outputs": []
    },
    {
      "cell_type": "markdown",
      "source": [
        "# Scraping Data"
      ],
      "metadata": {
        "id": "p8z5oCP56Mzm"
      }
    },
    {
      "cell_type": "code",
      "source": [
        "# Mengambil semua review aplikasi\n",
        "scrapreview = reviews_all(\n",
        "    'id.co.bankfama.android',  # ID aplikasi\n",
        "    lang='id',                 # Bahasa Indonesia\n",
        "    country='id',              # Negara Indonesia\n",
        "    sort=Sort.MOST_RELEVANT,   # Urutkan berdasarkan relevansi\n",
        "    filter_score_with=None\n",
        ")\n",
        "\n",
        "# Menampilkan jumlah data yang berhasil dikumpulkan\n",
        "print(f\"Oke, data sudah berhasil dikumpulkan dengan total data: {len(scrapreview)}\")"
      ],
      "metadata": {
        "colab": {
          "base_uri": "https://localhost:8080/"
        },
        "id": "GdmAY4n13_iO",
        "outputId": "3270a101-cf9d-40be-cad4-358fce676839"
      },
      "execution_count": 9,
      "outputs": [
        {
          "output_type": "stream",
          "name": "stdout",
          "text": [
            "Oke, data sudah berhasil dikumpulkan dengan total data: 13609\n"
          ]
        }
      ]
    },
    {
      "cell_type": "markdown",
      "source": [
        "# Konversi Data dan Unduh Hasil Data"
      ],
      "metadata": {
        "id": "Zk_OicHL7I-R"
      }
    },
    {
      "cell_type": "code",
      "source": [
        "# Konversi hasil review ke DataFrame\n",
        "app_reviews_df = pd.DataFrame(scrapreview)\n",
        "\n",
        "# Menyimpan DataFrame ke file CSV\n",
        "app_reviews_df.to_csv('/content/scrapingsuperbank.csv', index=None, header=True)\n",
        "\n",
        "print(f\"Oke, data sudah berhasil diubah, silahkan di unduh!\")"
      ],
      "metadata": {
        "colab": {
          "base_uri": "https://localhost:8080/"
        },
        "id": "fws9mOgI6dh-",
        "outputId": "e2a3c116-3ce8-4c65-d16c-8311eeaeacc4"
      },
      "execution_count": 12,
      "outputs": [
        {
          "output_type": "stream",
          "name": "stdout",
          "text": [
            "Oke, data sudah berhasil diubah, silahkan di unduh!\n"
          ]
        }
      ]
    }
  ]
}